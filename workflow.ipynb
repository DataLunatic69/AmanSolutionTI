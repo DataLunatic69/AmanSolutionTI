{
 "cells": [
  {
   "cell_type": "code",
   "execution_count": 1,
   "metadata": {},
   "outputs": [
    {
     "data": {
      "text/plain": [
       "True"
      ]
     },
     "execution_count": 1,
     "metadata": {},
     "output_type": "execute_result"
    }
   ],
   "source": [
    "from dotenv import load_dotenv\n",
    "\n",
    "load_dotenv()"
   ]
  },
  {
   "cell_type": "code",
   "execution_count": 2,
   "metadata": {},
   "outputs": [],
   "source": [
    "import time\n",
    "from typing_extensions import TypedDict\n",
    "\n",
    "from langgraph.graph import StateGraph, START, END\n",
    "from langchain_core.runnables.config import RunnableConfig\n",
    "from langchain_core.messages import HumanMessage\n",
    "from langchain_groq import ChatGroq\n",
    "from langchain_ollama import ChatOllama"
   ]
  },
  {
   "cell_type": "code",
   "execution_count": 4,
   "metadata": {},
   "outputs": [],
   "source": [
    "\n",
    "class AgentState(TypedDict):\n",
    "    question: str\n",
    "    answer: str"
   ]
  },
  {
   "cell_type": "code",
   "execution_count": 5,
   "metadata": {},
   "outputs": [],
   "source": [
    "def call_model(state: AgentState, config: RunnableConfig) -> AgentState:\n",
    "    model_type = config[\"configurable\"].get(\"model_type\", \"openai\")\n",
    "    if model_type == \"ollama\":\n",
    "        print(\"Using Ollama (deepseek-r1:7b).\")\n",
    "        llm = ChatOllama(model=\"deepseek-r1\", temperature=0)\n",
    "    else:\n",
    "        print(\"Using (Gemma2-9b-It).\")\n",
    "        llm =ChatGroq(groq_api_key=\"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\",model_name=\"llama-3.1-8b-instant\")\n",
    "\n",
    "    messages = [HumanMessage(content=state[\"question\"])]\n",
    "    response = llm.invoke(messages)\n",
    "    state[\"answer\"] = response.content\n",
    "    return state"
   ]
  },
  {
   "cell_type": "code",
   "execution_count": 6,
   "metadata": {},
   "outputs": [
    {
     "name": "stdout",
     "output_type": "stream",
     "text": [
      "Using Ollama (deepseek-r1:7b).\n"
     ]
    },
    {
     "data": {
      "text/plain": [
       "{'question': \"What's the highest mountain in the world?\",\n",
       " 'answer': '<think>\\n\\n</think>\\n\\nThe highest mountain in the world is Mount Everest.'}"
      ]
     },
     "execution_count": 6,
     "metadata": {},
     "output_type": "execute_result"
    }
   ],
   "source": [
    "workflow = StateGraph(AgentState)\n",
    "workflow.add_edge(START, \"agent\")\n",
    "workflow.add_node(\"agent\", call_model)\n",
    "workflow.add_edge(\"agent\", END)\n",
    "graph = workflow.compile()\n",
    "ollama_config = {\n",
    "    \"configurable\": {\n",
    "        \"model_type\": \"ollama\"\n",
    "    }\n",
    "}\n",
    "graph.invoke({\"question\": \"What's the highest mountain in the world?\"}, ollama_config)"
   ]
  },
  {
   "cell_type": "code",
   "execution_count": 9,
   "metadata": {},
   "outputs": [],
   "source": [
    "import re\n",
    "import time\n",
    "from langgraph.graph import StateGraph\n",
    "\n",
    "class ModelSwitcher:\n",
    "    def __init__(self, graph: StateGraph):\n",
    "        self.graph = graph\n",
    "        self.last_gemma_fail_time = None\n",
    "        self.gemma_config = {\n",
    "            \"configurable\": {\n",
    "                \"model_type\": \"gemma\",\n",
    "            }\n",
    "        }\n",
    "        self.fallback_config = {\n",
    "            \"configurable\": {\n",
    "                \"model_type\": \"ollama\",\n",
    "            }\n",
    "        }\n",
    "\n",
    "    def invoke(self, question: str, remove_think: bool = True) -> str:\n",
    "        if self._should_skip_gemma():\n",
    "            return self._invoke_fallback(question, remove_think)\n",
    "\n",
    "        if question.lower() == \"force error\":\n",
    "            print(\"Forcing error with ChatGroq.\")\n",
    "            self.last_gemma_fail_time = time.time()\n",
    "            print(\"OpenAI is disabled for 5 minutes. Invoking fallback.\")\n",
    "            return self._invoke_fallback(question, remove_think)\n",
    "\n",
    "        try:\n",
    "            print(\"Attempting invocation with Gemma...\")\n",
    "            state = {\"question\": question, \"answer\": \"\"}\n",
    "            result = self.graph.invoke(state, self.gemma_config)\n",
    "            answer = result[\"answer\"]\n",
    "            return self._clean_if_needed(answer, remove_think)\n",
    "        except Exception as e:\n",
    "            print(\"Error with ChatGroq occurred:\", e)\n",
    "            self.last_gemma_fail_time = time.time()\n",
    "            print(\"Gemma is disabled for 5 minutes. Invoking fallback.\")\n",
    "            return self._invoke_fallback(question, remove_think)\n",
    "\n",
    "    def _invoke_fallback(self, question: str, remove_think: bool) -> str:\n",
    "        print(\"Using fallback (Ollama).\")\n",
    "        state = {\"question\": question, \"answer\": \"\"}\n",
    "        result = self.graph.invoke(state, self.fallback_config)\n",
    "        answer = result[\"answer\"]\n",
    "        return self._clean_if_needed(answer, remove_think)\n",
    "\n",
    "    def _should_skip_gemma(self) -> bool:\n",
    "        if self.last_gemma_fail_time is None:\n",
    "            return False\n",
    "        elapsed = time.time() - self.last_gemma_fail_time\n",
    "        if elapsed < 300:\n",
    "            remaining = 300 - elapsed\n",
    "            print(f\"Gemma is still in cooldown. Time until Gemma is active again: {remaining:.2f} seconds.\")\n",
    "            return True\n",
    "        return False\n",
    "\n",
    "    def _clean_if_needed(self, text: str, remove_think: bool) -> str:\n",
    "        if not remove_think:\n",
    "            return text\n",
    "        return self._remove_thinking_tokens(text)\n",
    "\n",
    "    def _remove_thinking_tokens(self, text: str) -> str:\n",
    "        pattern = r\"<think>.*?</think>\"\n",
    "        text_no_think = re.sub(pattern, \"\", text, flags=re.DOTALL)\n",
    "        return text_no_think.lstrip(\"\\n\")"
   ]
  },
  {
   "cell_type": "code",
   "execution_count": 10,
   "metadata": {},
   "outputs": [
    {
     "name": "stdout",
     "output_type": "stream",
     "text": [
      "Attempting invocation with Gemma...\n",
      "Using (Gemma2-9b-It).\n",
      "Forcing error with ChatGroq.\n",
      "OpenAI is disabled for 5 minutes. Invoking fallback.\n",
      "Using fallback (Ollama).\n",
      "Using Ollama (deepseek-r1:7b).\n",
      "Gemma is still in cooldown. Time until Gemma is active again: 273.66 seconds.\n",
      "Using fallback (Ollama).\n",
      "Using Ollama (deepseek-r1:7b).\n",
      "Gemma is still in cooldown. Time until Gemma is active again: 271.08 seconds.\n",
      "Using fallback (Ollama).\n",
      "Using Ollama (deepseek-r1:7b).\n",
      "Gemma is still in cooldown. Time until Gemma is active again: 269.19 seconds.\n",
      "Using fallback (Ollama).\n",
      "Using Ollama (deepseek-r1:7b).\n"
     ]
    },
    {
     "data": {
      "text/plain": [
       "'<think>\\n\\n</think>\\n\\nThe capital of France is Paris.'"
      ]
     },
     "execution_count": 10,
     "metadata": {},
     "output_type": "execute_result"
    }
   ],
   "source": [
    "model_switcher = ModelSwitcher(graph)\n",
    "model_switcher.invoke(\"What's the highest mountain in the world?\")\n",
    "model_switcher.invoke(\"force error\")\n",
    "model_switcher.invoke(\"Which city is the capital of France?\")\n",
    "model_switcher.invoke(\"Which city is the capital of France?\")\n",
    "model_switcher.invoke(\"Which city is the capital of France?\", remove_think=False)"
   ]
  }
 ],
 "metadata": {
  "kernelspec": {
   "display_name": "Python 3",
   "language": "python",
   "name": "python3"
  },
  "language_info": {
   "codemirror_mode": {
    "name": "ipython",
    "version": 3
   },
   "file_extension": ".py",
   "mimetype": "text/x-python",
   "name": "python",
   "nbconvert_exporter": "python",
   "pygments_lexer": "ipython3",
   "version": "3.12.0"
  }
 },
 "nbformat": 4,
 "nbformat_minor": 2
}
